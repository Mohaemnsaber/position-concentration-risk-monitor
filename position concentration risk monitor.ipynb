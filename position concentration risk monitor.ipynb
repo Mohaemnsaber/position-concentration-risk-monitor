{
 "cells": [
  {
   "cell_type": "code",
   "execution_count": null,
   "id": "079501e4-a0d2-4c5a-b102-ff19a51fa2bd",
   "metadata": {},
   "outputs": [],
   "source": [
    "import pandas as pd\n",
    "import numpy as np\n",
    "import matplotlib.pyplot as plt\n",
    "import seaborn as sns\n",
    "from sklearn.model_selection import train_test_split, cross_val_score\n",
    "from sklearn.impute import SimpleImputer\n",
    "from sklearn.preprocessing import StandardScaler\n",
    "from sklearn.ensemble import RandomForestClassifier\n",
    "from xgboost import XGBClassifier\n",
    "from sklearn.linear_model import LogisticRegression\n",
    "from sklearn.metrics import classification_report, roc_auc_score, confusion_matrix\n",
    "\n",
    "# Load the dataset\n",
    "df = pd.read_csv(r\"C:\\Users\\User\\Downloads\\Anaconda\\QDL-FON\\QDL-FON.csv\")\n"
   ]
  },
  {
   "cell_type": "code",
   "execution_count": null,
   "id": "4876a14a-02f4-4f14-8043-99b7e53ace19",
   "metadata": {},
   "outputs": [],
   "source": [
    "print(df.shape)\n",
    "print(df.columns)\n",
    "print(df.info())\n",
    "print(df.isnull().sum())\n",
    "print(df.describe(include='all'))\n"
   ]
  },
  {
   "cell_type": "code",
   "execution_count": null,
   "id": "b3d12acb-2c59-4b14-82c7-455231c61177",
   "metadata": {},
   "outputs": [],
   "source": [
    "df['date'] = pd.to_datetime(df['date'], dayfirst=True, errors='coerce')\n"
   ]
  },
  {
   "cell_type": "code",
   "execution_count": null,
   "id": "13f0cebf-a648-4ecd-b504-0c8b08dbf44f",
   "metadata": {},
   "outputs": [],
   "source": [
    "df = df[df.isnull().mean(axis=1) < 0.5]\n"
   ]
  },
  {
   "cell_type": "code",
   "execution_count": null,
   "id": "f5f635ea-6046-46a2-b8a4-af20c1e91ea7",
   "metadata": {},
   "outputs": [],
   "source": [
    "num_cols = df.select_dtypes(include=[np.number]).columns\n",
    "df[num_cols] = df[num_cols].fillna(0)\n"
   ]
  },
  {
   "cell_type": "code",
   "execution_count": null,
   "id": "176293f2-b52f-4bc1-aac4-f602d847256e",
   "metadata": {},
   "outputs": [],
   "source": [
    "df['total_open_interest'] = df[['total_reportable_longs', 'total_reportable_shorts']].max(axis=1)\n",
    "\n",
    "# Example threshold-based concentration\n",
    "df['concentration_risk'] = (\n",
    "    (df['producer_merchant_processor_user_longs'] > 0.4 * df['total_open_interest']) |\n",
    "    (df['money_manager_longs'] > 0.4 * df['total_open_interest'])\n",
    ").astype(int)\n"
   ]
  },
  {
   "cell_type": "code",
   "execution_count": null,
   "id": "ab0927e1-936f-4d63-8d4f-197936510cf9",
   "metadata": {},
   "outputs": [],
   "source": [
    "df.drop(['contract_code', 'type', 'date'], axis=1, inplace=True)\n"
   ]
  },
  {
   "cell_type": "code",
   "execution_count": null,
   "id": "704a7066-7290-4c3f-badc-bac779f52061",
   "metadata": {},
   "outputs": [],
   "source": [
    "X = df.drop('concentration_risk', axis=1)\n",
    "y = df['concentration_risk']\n",
    "\n",
    "X_train, X_test, y_train, y_test = train_test_split(X, y, test_size=0.2, random_state=42)\n"
   ]
  },
  {
   "cell_type": "code",
   "execution_count": null,
   "id": "68bf70e8-8af5-4ad4-b3e7-90225cd6ab55",
   "metadata": {},
   "outputs": [],
   "source": [
    "scaler = StandardScaler()\n",
    "X_train_scaled = scaler.fit_transform(X_train)\n",
    "X_test_scaled = scaler.transform(X_test)\n",
    "\n",
    "lr = LogisticRegression(class_weight='balanced', max_iter=5000)\n",
    "lr.fit(X_train_scaled, y_train)\n"
   ]
  },
  {
   "cell_type": "code",
   "execution_count": null,
   "id": "9598255c-0c19-4cc8-a465-5b461641606a",
   "metadata": {},
   "outputs": [],
   "source": [
    "from sklearn.ensemble import RandomForestClassifier\n",
    "\n",
    "rf = RandomForestClassifier(class_weight='balanced', random_state=42)\n",
    "rf.fit(X_train, y_train)\n"
   ]
  },
  {
   "cell_type": "code",
   "execution_count": null,
   "id": "a7182b1b-f554-47b7-9b1f-7ff37a289d05",
   "metadata": {},
   "outputs": [],
   "source": [
    "xgb = XGBClassifier(eval_metric='logloss')\n",
    "xgb.fit(X_train, y_train)\n"
   ]
  },
  {
   "cell_type": "code",
   "execution_count": null,
   "id": "7c672783-a389-4782-b5a9-385a6bd0f60e",
   "metadata": {},
   "outputs": [],
   "source": [
    "# Use scaled versions of both X_train and X_test\n",
    "lr.fit(X_train_scaled, y_train)\n",
    "\n",
    "models = {\n",
    "    'Logistic Regression': lr,\n",
    "    'Random Forest': rf,\n",
    "    'XGBoost': xgb\n",
    "}\n",
    "\n",
    "for name, model in models.items():\n",
    "    if name == 'Logistic Regression':\n",
    "        preds = model.predict(X_test_scaled)\n",
    "        proba = model.predict_proba(X_test_scaled)[:, 1]\n",
    "    else:\n",
    "        preds = model.predict(X_test)\n",
    "        proba = model.predict_proba(X_test)[:, 1]\n",
    "\n",
    "    print(f\"Model: {name}\")\n",
    "    print(classification_report(y_test, preds))\n",
    "    print(\"ROC AUC:\", roc_auc_score(y_test, proba))\n",
    "    print(\"Confusion Matrix:\\n\", confusion_matrix(y_test, preds))\n",
    "    print(\"=\" * 50)\n"
   ]
  },
  {
   "cell_type": "code",
   "execution_count": null,
   "id": "755c0fdf-882a-494e-84b4-f8cc83804192",
   "metadata": {},
   "outputs": [],
   "source": [
    "print(y_train.value_counts(normalize=True))\n"
   ]
  },
  {
   "cell_type": "code",
   "execution_count": null,
   "id": "3bc094d9-5eab-4fb4-a81e-4173a707ca67",
   "metadata": {},
   "outputs": [],
   "source": [
    "importances = rf.feature_importances_\n",
    "feature_names = X.columns\n",
    "importance_df = pd.DataFrame({'Feature': feature_names, 'Importance': importances})\n",
    "importance_df.sort_values(by='Importance', ascending=False).head(10)\n"
   ]
  },
  {
   "cell_type": "code",
   "execution_count": null,
   "id": "fd75ca7e-6260-4366-a3b6-f1a1304922bb",
   "metadata": {},
   "outputs": [],
   "source": [
    "import matplotlib.pyplot as plt\n",
    "import seaborn as sns\n",
    "\n",
    "top_features = importance_df.sort_values(by='Importance', ascending=False).head(10)\n",
    "\n",
    "plt.figure(figsize=(10, 6))\n",
    "sns.barplot(x='Importance', y='Feature', data=top_features, palette='viridis')\n",
    "plt.title('Top 10 Feature Importances (Random Forest)')\n",
    "plt.xlabel('Importance Score')\n",
    "plt.ylabel('Feature')\n",
    "plt.tight_layout()\n",
    "plt.show()\n"
   ]
  },
  {
   "cell_type": "code",
   "execution_count": null,
   "id": "653f5f1a-65be-4657-ac43-8881ab43edef",
   "metadata": {},
   "outputs": [],
   "source": []
  }
 ],
 "metadata": {
  "kernelspec": {
   "display_name": "Python 3 (ipykernel)",
   "language": "python",
   "name": "python3"
  },
  "language_info": {
   "codemirror_mode": {
    "name": "ipython",
    "version": 3
   },
   "file_extension": ".py",
   "mimetype": "text/x-python",
   "name": "python",
   "nbconvert_exporter": "python",
   "pygments_lexer": "ipython3",
   "version": "3.11.7"
  }
 },
 "nbformat": 4,
 "nbformat_minor": 5
}
